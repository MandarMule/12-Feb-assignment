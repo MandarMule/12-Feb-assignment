{
 "cells": [
  {
   "cell_type": "code",
   "execution_count": null,
   "id": "7e3bc4aa-58a9-4591-90ec-79e39a4e9391",
   "metadata": {},
   "outputs": [],
   "source": [
    "Q1. What is exception in python? write difference between Exception and syntax errors."
   ]
  },
  {
   "cell_type": "code",
   "execution_count": null,
   "id": "5736701f-405d-4fc1-9f8c-280249fc608a",
   "metadata": {},
   "outputs": [],
   "source": [
    "    Exceptions are the errors happens during exceution of programm.An exception is an abnormal event that occurs during the \n",
    "execution of a program. Exceptions are usually caused by runtime errors, such as dividing by zero, trying to access an element \n",
    "in an array with an out-of-bounds index, or trying to access a file that does not exist. Exceptions are not syntax errors, but \n",
    "they can still prevent the program from running if they are not handled properly.\n",
    "    A syntax error occurs when the structure of a program does not conform to the rules of the programming language. \n",
    "Syntax errors are usually detected by the compiler or interpreter when the program is being compiled or executed, \n",
    "and they prevent the program from running. Syntax errors are usually caused by mistakes in the source code."
   ]
  },
  {
   "cell_type": "code",
   "execution_count": null,
   "id": "d5e9b15e-2d99-4629-9eb3-54a25bdb1567",
   "metadata": {},
   "outputs": [],
   "source": [
    "Q2.what happens when exception is not handled in python"
   ]
  },
  {
   "cell_type": "code",
   "execution_count": null,
   "id": "0c3a0ce2-b7f5-4396-affb-41cd39ff9a73",
   "metadata": {},
   "outputs": [],
   "source": [
    "If the exceptions are not handled in python they will re-raised and program will terminate"
   ]
  },
  {
   "cell_type": "code",
   "execution_count": null,
   "id": "023b8f9b-9d4c-4b93-a78f-13151f1febbd",
   "metadata": {},
   "outputs": [],
   "source": [
    "Q3.which python statement is used to catch and handle exceptions"
   ]
  },
  {
   "cell_type": "code",
   "execution_count": null,
   "id": "aa69b15a-595c-4b1c-8215-301d232a1565",
   "metadata": {},
   "outputs": [],
   "source": [
    "The try and except block in Python is used to catch and handle exceptions."
   ]
  },
  {
   "cell_type": "code",
   "execution_count": null,
   "id": "2cb51662-f884-4f76-84f5-95e9052d3ff1",
   "metadata": {},
   "outputs": [],
   "source": [
    "Q4. Explain the following\n",
    "1) try and else\n",
    "        unless and until try block code not execute, else block code will not exceute"
   ]
  },
  {
   "cell_type": "code",
   "execution_count": null,
   "id": "9c25741c-678e-4383-8433-2fbb2f3aa86b",
   "metadata": {},
   "outputs": [],
   "source": [
    "try:\n",
    "    text = open(\"123.txt\",\"w\")\n",
    "    text.write(\"txt.txt\")\n",
    "else:\n",
    "    print(\"the else block code will excecute once the try block code excecute\")"
   ]
  },
  {
   "cell_type": "code",
   "execution_count": null,
   "id": "a784ffa0-529b-491a-a093-2f1b28ad6117",
   "metadata": {},
   "outputs": [],
   "source": [
    "2) Finally block- The code in finally block definetely execute, although the try block code excute or not."
   ]
  },
  {
   "cell_type": "code",
   "execution_count": null,
   "id": "bd0f45e4-6338-4361-8001-3b6b9693e48d",
   "metadata": {},
   "outputs": [],
   "source": [
    "try:\n",
    "    text = open(\"123.txt\",\"w\")\n",
    "    text.write(\"txt.txt\")\n",
    "finally:\n",
    "    print(\"The code in the finally block will defenitely excuted\")"
   ]
  },
  {
   "cell_type": "code",
   "execution_count": null,
   "id": "97b3cf97-3b5e-43cc-967e-826aba66b482",
   "metadata": {},
   "outputs": [],
   "source": [
    "3) raise- raise keyword used in custom handling. The raise keyword is used to raise an exception. You can define what kind of error to raise,\n",
    "and the text to print to the user."
   ]
  },
  {
   "cell_type": "code",
   "execution_count": null,
   "id": "3fc0e3bd-7ee5-47d2-9eee-036832ef9fee",
   "metadata": {},
   "outputs": [],
   "source": [
    "Q5.what are custom exceptions in python why do we need custom exceptions"
   ]
  },
  {
   "cell_type": "code",
   "execution_count": null,
   "id": "af25a982-a470-4c73-8d86-060cd32e862b",
   "metadata": {},
   "outputs": [],
   "source": [
    "Built-in exceptions offer information about Python-related problems, and custom exceptions will add information about project-related \n",
    "problems. That way, you can design your code (and traceback, if an exception is raised) in a way that combines Python code with the \n",
    "language of the project"
   ]
  },
  {
   "cell_type": "code",
   "execution_count": null,
   "id": "5518cca2-4a36-41b2-9357-7c9e7f3a0065",
   "metadata": {},
   "outputs": [],
   "source": [
    "class Student_details(Exception):\n",
    "    \n",
    "    def __init__(self, attendace):\n",
    "        self.attendace = attendace\n",
    "    "
   ]
  },
  {
   "cell_type": "code",
   "execution_count": null,
   "id": "1574e4b5-db44-4399-8255-9558febb2da2",
   "metadata": {},
   "outputs": [],
   "source": [
    "def Student_details(attendace):\n",
    "    if attendace < 0 :\n",
    "        raise Student_details(\"The attendace never be zero\")"
   ]
  },
  {
   "cell_type": "code",
   "execution_count": null,
   "id": "555090eb-bcbb-4d68-b9d8-d350c7eb1e81",
   "metadata": {},
   "outputs": [],
   "source": [
    "try:\n",
    "    attendace = int(input(\"enter the attendace:\"))\n",
    "    Student_details(attendace)\n",
    "except Exception as e:\n",
    "    print(e)"
   ]
  },
  {
   "cell_type": "code",
   "execution_count": null,
   "id": "e1a8b44b-68df-474d-94fe-7ad63e00ba4e",
   "metadata": {},
   "outputs": [],
   "source": [
    "Q6.Create custom exception in python. Use class to handle custom Exceotipns"
   ]
  },
  {
   "cell_type": "code",
   "execution_count": null,
   "id": "45d58ac0-9d67-432d-9732-29c12ecd9740",
   "metadata": {},
   "outputs": [],
   "source": [
    "class valide_age(Exception):\n",
    "    def __init__(self, msg):\n",
    "        self.msg = msg\n",
    "    \n",
    "    def valide_age(age):\n",
    "        if age < 0:\n",
    "            raise valide_age(\"Entered age is negative\")\n",
    "        elif age > 200:\n",
    "            raise valide_age(\"Entered age is very high\")\n",
    "        else:\n",
    "            print(\"age is valid\")"
   ]
  },
  {
   "cell_type": "code",
   "execution_count": null,
   "id": "1bd4d704-2484-4bed-ac93-16be51d7de5c",
   "metadata": {},
   "outputs": [],
   "source": [
    "try:\n",
    "    age = int(input(\"enter the age:\"))\n",
    "    valide_age(age)\n",
    "except valide_age as e:\n",
    "    print(e)"
   ]
  },
  {
   "cell_type": "code",
   "execution_count": null,
   "id": "e441f4c0-852a-41e5-af58-e0895b3177d0",
   "metadata": {},
   "outputs": [],
   "source": []
  }
 ],
 "metadata": {
  "kernelspec": {
   "display_name": "Python 3 (ipykernel)",
   "language": "python",
   "name": "python3"
  },
  "language_info": {
   "codemirror_mode": {
    "name": "ipython",
    "version": 3
   },
   "file_extension": ".py",
   "mimetype": "text/x-python",
   "name": "python",
   "nbconvert_exporter": "python",
   "pygments_lexer": "ipython3",
   "version": "3.10.8"
  }
 },
 "nbformat": 4,
 "nbformat_minor": 5
}
